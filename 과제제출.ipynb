{
  "nbformat": 4,
  "nbformat_minor": 0,
  "metadata": {
    "colab": {
      "name": "과제제출.ipynb",
      "provenance": [],
      "collapsed_sections": [],
      "include_colab_link": true
    },
    "kernelspec": {
      "name": "python3",
      "display_name": "Python 3"
    }
  },
  "cells": [
    {
      "cell_type": "markdown",
      "metadata": {
        "id": "view-in-github",
        "colab_type": "text"
      },
      "source": [
        "<a href=\"https://colab.research.google.com/github/magicianozs/SeoultechPSEhomework/blob/master/%EA%B3%BC%EC%A0%9C%EC%A0%9C%EC%B6%9C.ipynb\" target=\"_parent\"><img src=\"https://colab.research.google.com/assets/colab-badge.svg\" alt=\"Open In Colab\"/></a>"
      ]
    },
    {
      "cell_type": "markdown",
      "metadata": {
        "id": "t3n1lZQ2YJV6",
        "colab_type": "text"
      },
      "source": [
        "과제제출 16101780 오상명"
      ]
    },
    {
      "cell_type": "markdown",
      "metadata": {
        "id": "rkAWubwDUKhJ",
        "colab_type": "text"
      },
      "source": [
        "문제 1. Laplace's Equation in the Sphere"
      ]
    },
    {
      "cell_type": "markdown",
      "metadata": {
        "id": "9OpJ821jUYvW",
        "colab_type": "text"
      },
      "source": [
        "We consider the boundary value problem\n",
        "\n",
        ">$\\begin{align*}\n",
        " u_{rr} +\\frac{2}{r} u_r &+\\frac{1}{r^2}u_{\\phi\\phi} +\\frac{\\cot\\phi}{r^2} u_{\\phi} +\\frac{1}{r^2\\sin^2\\phi}u_{\\theta\\theta} = 0, \\;\\; r < R \\\\ \n",
        " u(R,\\phi,\\theta) &= g(\\phi,\\theta)\\\\ \n",
        "\\end{align*}$\n",
        "\n",
        "in a sphere of radius $R$. (a) Solve this problem by separation of variables, (b) derive $K(r,\\phi,\\theta; R,\\varphi,\\vartheta)$ in the equivalent integral formula:\n",
        "\n",
        ">$\\displaystyle u(r,\\phi,\\theta) = \\int_0^{2\\pi} \\int_0^\\pi K(r,\\phi,\\theta; R,\\varphi,\\vartheta)\\, g(\\varphi,\\vartheta) \\sin\\varphi \\,d\\varphi \\, d\\vartheta$"
      ]
    },
    {
      "cell_type": "markdown",
      "metadata": {
        "id": "iv3KcUQ7YO_X",
        "colab_type": "text"
      },
      "source": [
        "라플라스 방정식 (a) 풀이\n",
        "\n",
        ">$\\displaystyle \\left( r^2 u_r \\right)_r +\\frac{1}{\\sin\\phi} \\left( \\sin\\phi\\, u_\\phi \\right)_\\phi = 0, \\;\\;\\; 0 < r < R$\n",
        "\n",
        ">$u(R,\\phi)=g(\\phi),\\;\\;\\; 0 \\leq \\phi \\leq \\pi$\n",
        "\n",
        "이를 변수분리하여 나타내면, 두가지 ODE를 얻을 수 있다.\n",
        "\n",
        ">$\\displaystyle u(r,\\phi)=R(r)\\Phi(\\phi)$\n",
        "\n",
        ">$\\begin{align*}\n",
        " &\\left(\\sin\\phi\\, \\Phi' \\right)' +\\lambda \\sin\\phi \\Phi= 0\\;\\;\\;\\text{Legendre's Equation}\\\\ \n",
        " &r^2R'' +2rR' -\\lambda R = 0 \\;\\;\\; \\text{Euler's equation}\n",
        "\\end{align*}$\n",
        "\n",
        "르장드르 방정식을 풀기위해 변수 변환을 시도한다.\n",
        "\n",
        ">$x=\\cos\\phi$, $ 0 \\leq \\phi \\leq \\pi$,  $ -1 \\leq x \\leq 1$\n",
        "\n",
        "바뀐 변수에 의한 새로운 르장드르 방정식은 다음과 같다.\n",
        "\n",
        ">$\\begin{align*}\n",
        " \\left(\\sin\\phi\\, \\Phi' \\right)' &+\\lambda \\sin\\phi \\Phi= 0\\\\ \n",
        " & \\Downarrow \\;\\;x=\\cos\\phi\\\\\n",
        " \\Phi'&=\\frac{d\\Phi}{dx} \\frac{dx}{d\\phi}=-\\sin\\phi\\frac{d\\Phi}{dx} \\\\\n",
        " \\left(\\sin\\phi\\, \\Phi' \\right)'&=-\\frac{d}{dx}\\left(\\sin^2\\phi \\frac{d\\Phi}{dx} \\right) \\frac{dx}{d\\phi}\n",
        "  =\\left(\\sin^2\\phi \\frac{d^2\\Phi}{dx^2} +2\\sin\\phi\\cos\\phi \\frac{d\\phi}{dx}\\frac{d\\Phi}{dx} \\right)\\sin\\phi \\\\\n",
        "  &=\\left[ (1 -x^2) \\frac{d^2\\Phi}{dx^2} -2x\\frac{d\\Phi}{dx} \\right] \\sin\\phi \\\\\n",
        " &\\Downarrow \\\\\n",
        " (1 -x^2) \\frac{d^2\\Phi}{dx^2} &-2x\\frac{d\\Phi}{dx} +\\lambda \\Phi = 0, \\;\\;\\; -1 \\leq x \\leq 1 \\\\\n",
        " &\\Downarrow \\\\\n",
        " \\frac{d}{dx} \\left[ (1 -x^2) \\frac{d\\Phi}{dx} \\right] &+\\lambda \\Phi = 0\n",
        "\\end{align*}$\n",
        "\n",
        "르장드르 방정식의 해를 나열하면, 다음과 같다. 단, $\\lambda=n(n +1)$, $n=0,1,2,\\cdots$ 에서 이 방정식은 해를 갖는다. 이를 르장드르 다항식(Legendre polynomial)이라고 한다.\n",
        "\n",
        "\n",
        ">$\\begin{align*}\n",
        " &P_0(x) = 1 \\\\ \n",
        " &P_1(x) = x \\\\ \n",
        " &P_2(x) = \\frac{1}{2}(3x^2 -1) \\\\ \n",
        " &P_3(x) = \\frac{1}{2}(5x^3 -3x) \\\\\n",
        " &\\;\\;\\;\\;\\;\\;\\;\\; \\vdots \\\\\n",
        " &P_n(x) = \\frac{1}{2^n n!} \\frac{d^n}{dx^n} \\left[ (x^2 -1)^n \\right]\n",
        "\\end{align*}$\n",
        "\n",
        "오일러 방정식의 경우, 고유값과 해의 형태는 다음과 같고\n",
        "\n",
        "$\\lambda = n(n+1)$ and $R(r)=r^\\alpha$ \n",
        "\n",
        "그래서 일반해의 경우 아래와 같다.\n",
        "\n",
        ">$R_n(r)= a_n r^n + b_n r^{-(n +1)} \\;\\;\\xrightarrow\\;\\;a_n r^n$ \n",
        "n값(경계조건)에 따라 다른 급수해를 갖는다.\n",
        "\n",
        ">$\\displaystyle g(\\phi) = \\sum_{n=0}^\\infty a_n P_n(\\cos\\phi)$\n",
        "\n",
        "\n",
        ">$\\begin{align*}\n",
        " \\int_0^\\pi g(\\phi) P_m(\\cos\\phi)\\,\\sin\\phi \\,d\\phi &= \n",
        "   \\sum_{n=0}^\\infty a_n \\int_0^{\\pi} P_n(\\cos\\phi) P_m(\\cos\\phi)\\,\\sin\\phi \\, d\\phi \\\\\n",
        " &= \\sum_{n=0}^\\infty a_n \\int_{-1}^1 P_n(x) P_m(x) \\,dx \\\\ \n",
        " &=\n",
        " \\begin{cases}\n",
        "  \\;\\;\\;\\;\\, 0  & n \\neq m \\\\ \n",
        "  \\displaystyle \\frac{2}{2m +1}\\, a_m & n = m \n",
        " \\end{cases} \\\\ \n",
        " &\\Downarrow \\\\ \n",
        " a_n &=\\frac{2n +1}{2} \\int_0^{2\\pi} g(\\phi) P_n(\\cos\\phi)\\, \\sin \\phi \\,d\\phi\n",
        "\\end{align*}$\n",
        "\n",
        "이 두 결과를 합하면, 아래의 일반식이 나오게 된다.\n",
        "\n",
        "\n",
        ">$\\begin{align*}\n",
        " u(r,\\phi) &= \n",
        "   \\sum_{n=0}^\\infty a_n r^n P_n(\\cos\\phi) \\end{align*}$\n",
        "\n",
        "\n",
        " \n"
      ]
    },
    {
      "cell_type": "markdown",
      "metadata": {
        "id": "EDwQl8OWyBUw",
        "colab_type": "text"
      },
      "source": [
        "문제2. Poisson's Equation for the Sphere"
      ]
    },
    {
      "cell_type": "markdown",
      "metadata": {
        "id": "Uf4zYHuvyDeO",
        "colab_type": "text"
      },
      "source": [
        "We consider the problem\n",
        "\n",
        ">$\\begin{align*}\n",
        " u_{rr} +\\frac{2}{r} u_r &+\\frac{1}{r^2}u_{\\phi\\phi} +\\frac{\\cot\\phi}{r^2} u_{\\phi} +\\frac{1}{r^2\\sin^2\\phi}u_{\\theta\\theta} = -F(r,\\phi,\\theta), \\;\\; r < R \\\\ \n",
        " u(R,\\phi,\\theta) &= 0\\\\ \n",
        "\\end{align*}$\n",
        "\n",
        "(a) solve by taking the finite Fourier Transforms, (b) derive $G(r,\\phi,\\theta; \\rho,\\varphi,\\vartheta)$ in the equivalent integral formula:\n",
        "\n",
        ">$\\displaystyle u(r,\\phi,\\theta) = \\int_0^{2\\pi} \\int_0^\\pi \\int_0^R G(r,\\phi,\\theta; \\rho,\\varphi,\\vartheta)\\, F(\\rho, \\varphi,\\vartheta) \\,\\rho^2 \\sin\\varphi \\,d\\rho \\,d\\varphi \\, d\\vartheta$"
      ]
    }
  ]
}
